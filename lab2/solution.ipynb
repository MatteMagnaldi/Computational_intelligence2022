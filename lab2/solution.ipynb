{
 "cells": [
  {
   "cell_type": "markdown",
   "metadata": {},
   "source": [
    "# LAB 2 # "
   ]
  },
  {
   "cell_type": "code",
   "execution_count": 4,
   "metadata": {},
   "outputs": [],
   "source": [
    "import numpy\n",
    "import random\n",
    "import logging\n",
    "#import matplotlib as plt\n",
    "import itertools"
   ]
  },
  {
   "cell_type": "code",
   "execution_count": 22,
   "metadata": {},
   "outputs": [],
   "source": [
    "N = 1000\n",
    "POPULATION_SIZE = 100\n",
    "OFFSPRING_SIZE = 1000\n",
    "\n",
    "NUM_GENERATIONS = 200\n",
    "MUTATION_RATE = 0.5"
   ]
  },
  {
   "cell_type": "code",
   "execution_count": 35,
   "metadata": {},
   "outputs": [],
   "source": [
    "logging.basicConfig(format=\"%(message)s\", level=logging.INFO)\n",
    "def problem(N, seed=None):\n",
    "    random.seed(seed)\n",
    "    return [\n",
    "        list(set(random.randint(0, N - 1) for n in range(random.randint(N // 5, N // 2))))\n",
    "        for n in range(random.randint(N, N * 5))\n",
    "    ]\n",
    "\n",
    "def remove_duplicates(P):\n",
    "    set_list = []\n",
    "    for p in P:\n",
    "        if p not in set_list and len(p) != 0:\n",
    "            set_list.append(p)\n",
    "    return set_list\n",
    "\n",
    "\n",
    "def fitness(genome):\n",
    "    #logging.info(f\"{genome}\")\n",
    "    return (len(set(itertools.chain(*genome))), -sum(len(p) for p in genome))\n",
    "\n",
    "def tournament(population,tournamen_size = 10):\n",
    "    return max(random.choices(population,k=tournamen_size), key=lambda i: i[1])\n",
    "\n",
    "def cross_over(g1,g2):\n",
    "    cut1 = random.randint(0,len(g1))\n",
    "    cut2 = random.randint(0,len(g2))\n",
    "    if random.random() < 0.5:\n",
    "        new_genome = g1[:cut1] + g2[cut2:]\n",
    "    else:\n",
    "        new_genome = g2[:cut2] + g1[cut1:]\n",
    "    return new_genome\n",
    "\n",
    "def mutation(genome,problem):\n",
    "    index_mut_elem = random.randint(0,len(genome) -1)\n",
    "    new_elem = random.choice(problem)\n",
    "    return genome[:index_mut_elem]+ [new_elem] + genome[index_mut_elem+1:]\n",
    "    \n",
    "\n",
    "def goal_test(genome):\n",
    "    return set(itertools.chain(*genome[0])) == set(range(0,N))\n",
    "    "
   ]
  },
  {
   "cell_type": "code",
   "execution_count": 36,
   "metadata": {},
   "outputs": [
    {
     "name": "stderr",
     "output_type": "stream",
     "text": [
      "Solution cost: (1000, -3083)\n",
      "#fitness call: 203619\n"
     ]
    }
   ],
   "source": [
    "P = problem(N,seed=42)\n",
    "P = remove_duplicates(P)\n",
    "#logging.info(P)\n",
    "num_fitness_call = len(P)\n",
    "population = [([a],fitness([a]))  for a in P]\n",
    "population = sorted(population,key=lambda i:i[1],reverse=True)\n",
    "for g in range(NUM_GENERATIONS):\n",
    "    offspring = []\n",
    "    for i in range(OFFSPRING_SIZE):\n",
    "        if random.random() < MUTATION_RATE:\n",
    "            p = tournament(population)[0]\n",
    "            o = mutation(p,P)\n",
    "            #logging.info(f\"p:{p} o:{o}\")\n",
    "        else:\n",
    "            p1 = tournament(population)[0]\n",
    "            p2 = tournament(population)[0]\n",
    "            o = cross_over(p1,p2)\n",
    "            #logging.info(f\"p1:{p1} p2:{p2} o:{o}\")\n",
    "        #logging.info(f\"new element:{o}\")\n",
    "        num_fitness_call += 1\n",
    "        offspring.append((o,fitness(o)))\n",
    "    population = offspring \n",
    "    #logging.info(f\"population:{population}\")\n",
    "    population = sorted(population,key=lambda i:i[1],reverse=True)[:POPULATION_SIZE]\n",
    "    #logging.info(f\"population:{population[0]}\")\n",
    "logging.info(f\"Solution cost: {population[0][1]}\")\n",
    "logging.info(f\"#fitness call: {num_fitness_call}\")"
   ]
  },
  {
   "cell_type": "code",
   "execution_count": null,
   "metadata": {},
   "outputs": [],
   "source": []
  }
 ],
 "metadata": {
  "kernelspec": {
   "display_name": "Python 3.10.8 64-bit (microsoft store)",
   "language": "python",
   "name": "python3"
  },
  "language_info": {
   "codemirror_mode": {
    "name": "ipython",
    "version": 3
   },
   "file_extension": ".py",
   "mimetype": "text/x-python",
   "name": "python",
   "nbconvert_exporter": "python",
   "pygments_lexer": "ipython3",
   "version": "3.10.8"
  },
  "orig_nbformat": 4,
  "vscode": {
   "interpreter": {
    "hash": "5a6880a325705b3665dbce163bf5d53d724caa231254ade3e201df315622a4af"
   }
  }
 },
 "nbformat": 4,
 "nbformat_minor": 2
}
