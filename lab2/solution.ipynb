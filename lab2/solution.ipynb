{
 "cells": [
  {
   "cell_type": "markdown",
   "metadata": {},
   "source": [
    "# LAB 2 # "
   ]
  },
  {
   "cell_type": "code",
   "execution_count": 2,
   "metadata": {},
   "outputs": [],
   "source": [
    "import numpy\n",
    "import random\n",
    "import logging\n",
    "#import matplotlib.pyplot as plt\n",
    "import itertools"
   ]
  },
  {
   "cell_type": "code",
   "execution_count": 3,
   "metadata": {},
   "outputs": [],
   "source": [
    "N = 5\n",
    "#POPULATION_SIZE = 30\n",
    "OFFSPRING_SIZE = 30\n",
    "MUTATION_RATE = 0.4\n",
    "NUM_GENERATIONS = 100"
   ]
  },
  {
   "cell_type": "code",
   "execution_count": 7,
   "metadata": {},
   "outputs": [],
   "source": [
    "logging.basicConfig(format=\"%(message)s\", level=logging.INFO)\n",
    "def problem(N, seed=None):\n",
    "    random.seed(seed)\n",
    "    return [\n",
    "        list(set(random.randint(0, N - 1) for n in range(random.randint(N // 5, N // 2))))\n",
    "        for n in range(random.randint(N, N * 5))\n",
    "    ]\n",
    "\n",
    "def remove_duplicates(P):\n",
    "    set_list = []\n",
    "    for p in P:\n",
    "        if p not in set_list and len(p) != 0:\n",
    "            set_list.append(p)\n",
    "    return set_list\n",
    "\n",
    "\n",
    "def fitness(genome):\n",
    "    return (len(set(itertools.chain(*genome))), -sum(len(p) for p in genome))\n",
    "\n",
    "def tournament(population,tournamen_size = 2):\n",
    "    return max(random.choices(population,k=tournamen_size), key=lambda i: fitness(i))\n",
    "\n",
    "def cross_over(g1,g2):\n",
    "    cut1 = random.randint(1,len(g1))+1\n",
    "    cut2 = random.randint(1,len(g2))-1\n",
    "    return g1[:cut1] + g2[cut2:]\n",
    "\n",
    "def mutation(genome,problem):\n",
    "    index_mut_elem = random.randint(0,len(genome) -1)\n",
    "    new_elem = random.choice(problem)\n",
    "    return genome[:index_mut_elem] + new_elem + genome[index_mut_elem+1:]\n",
    "\n",
    "def goal_test(genome):\n",
    "    return set([itertools.chain(*genome[0])]) == set(range(0,N))\n",
    "    "
   ]
  },
  {
   "cell_type": "code",
   "execution_count": 8,
   "metadata": {},
   "outputs": [
    {
     "name": "stderr",
     "output_type": "stream",
     "text": [
      "[[0], [1], [4], [1, 3], [0, 1], [2], [0, 2], [2, 4], [3], [2, 3]]\n"
     ]
    },
    {
     "ename": "TypeError",
     "evalue": "'int' object is not iterable",
     "output_type": "error",
     "traceback": [
      "\u001b[1;31m---------------------------------------------------------------------------\u001b[0m",
      "\u001b[1;31mTypeError\u001b[0m                                 Traceback (most recent call last)",
      "Cell \u001b[1;32mIn [8], line 11\u001b[0m\n\u001b[0;32m      9\u001b[0m \u001b[39mfor\u001b[39;00m i \u001b[39min\u001b[39;00m \u001b[39mrange\u001b[39m(OFFSPRING_SIZE):\n\u001b[0;32m     10\u001b[0m     \u001b[39mif\u001b[39;00m random\u001b[39m.\u001b[39mrandom() \u001b[39m<\u001b[39m MUTATION_RATE:\n\u001b[1;32m---> 11\u001b[0m         p \u001b[39m=\u001b[39m tournament(population)[\u001b[39m0\u001b[39m]\n\u001b[0;32m     12\u001b[0m         o \u001b[39m=\u001b[39m mutation(p,P)\n\u001b[0;32m     13\u001b[0m     \u001b[39melse\u001b[39;00m:\n",
      "Cell \u001b[1;32mIn [7], line 21\u001b[0m, in \u001b[0;36mtournament\u001b[1;34m(population, tournamen_size)\u001b[0m\n\u001b[0;32m     20\u001b[0m \u001b[39mdef\u001b[39;00m \u001b[39mtournament\u001b[39m(population,tournamen_size \u001b[39m=\u001b[39m \u001b[39m2\u001b[39m):\n\u001b[1;32m---> 21\u001b[0m     \u001b[39mreturn\u001b[39;00m \u001b[39mmax\u001b[39;49m(random\u001b[39m.\u001b[39;49mchoices(population,k\u001b[39m=\u001b[39;49mtournamen_size), key\u001b[39m=\u001b[39;49m\u001b[39mlambda\u001b[39;49;00m i: fitness(i))\n",
      "Cell \u001b[1;32mIn [7], line 21\u001b[0m, in \u001b[0;36mtournament.<locals>.<lambda>\u001b[1;34m(i)\u001b[0m\n\u001b[0;32m     20\u001b[0m \u001b[39mdef\u001b[39;00m \u001b[39mtournament\u001b[39m(population,tournamen_size \u001b[39m=\u001b[39m \u001b[39m2\u001b[39m):\n\u001b[1;32m---> 21\u001b[0m     \u001b[39mreturn\u001b[39;00m \u001b[39mmax\u001b[39m(random\u001b[39m.\u001b[39mchoices(population,k\u001b[39m=\u001b[39mtournamen_size), key\u001b[39m=\u001b[39m\u001b[39mlambda\u001b[39;00m i: fitness(i))\n",
      "Cell \u001b[1;32mIn [7], line 18\u001b[0m, in \u001b[0;36mfitness\u001b[1;34m(genome)\u001b[0m\n\u001b[0;32m     17\u001b[0m \u001b[39mdef\u001b[39;00m \u001b[39mfitness\u001b[39m(genome):\n\u001b[1;32m---> 18\u001b[0m     \u001b[39mreturn\u001b[39;00m \u001b[39mlen\u001b[39m(\u001b[39mset\u001b[39;49m(itertools\u001b[39m.\u001b[39;49mchain(\u001b[39m*\u001b[39;49mgenome)))\n",
      "\u001b[1;31mTypeError\u001b[0m: 'int' object is not iterable"
     ]
    }
   ],
   "source": [
    "P = problem(N,seed=42)\n",
    "P = remove_duplicates(P)\n",
    "logging.info(P)\n",
    "population = [(a,fitness([a]))  for a in P]\n",
    "population = sorted(population,key=lambda i:i[1],reverse=True)\n",
    "population_size = len(population)\n",
    "while not goal_test(population[0]):\n",
    "    offspring = []\n",
    "    for i in range(OFFSPRING_SIZE):\n",
    "        if random.random() < MUTATION_RATE:\n",
    "            p = tournament(population)[0]\n",
    "            o = mutation(p,P)\n",
    "        else:\n",
    "            p1 = tournament(population)[0]\n",
    "            p2 = tournament(population)[0]\n",
    "            o = cross_over(p1,p2)\n",
    "        #logging.info(f\"new element:{o}\")\n",
    "        offspring.append((o,fitness([o])))\n",
    "    population += offspring\n",
    "    #logging.info(f\"population:{population}\")\n",
    "    population = sorted(population,key=lambda i:i[1],reverse=True)[:population_size]\n",
    "    logging.info(f\"population:{population[0]}\")\n",
    "logging.info(f\"Solution: {population[0]}\")"
   ]
  }
 ],
 "metadata": {
  "kernelspec": {
   "display_name": "Python 3.10.8 64-bit (microsoft store)",
   "language": "python",
   "name": "python3"
  },
  "language_info": {
   "codemirror_mode": {
    "name": "ipython",
    "version": 3
   },
   "file_extension": ".py",
   "mimetype": "text/x-python",
   "name": "python",
   "nbconvert_exporter": "python",
   "pygments_lexer": "ipython3",
   "version": "3.10.8"
  },
  "orig_nbformat": 4,
  "vscode": {
   "interpreter": {
    "hash": "5a6880a325705b3665dbce163bf5d53d724caa231254ade3e201df315622a4af"
   }
  }
 },
 "nbformat": 4,
 "nbformat_minor": 2
}
