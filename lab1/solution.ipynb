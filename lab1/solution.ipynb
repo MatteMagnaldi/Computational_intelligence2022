{
 "cells": [
  {
   "cell_type": "code",
   "execution_count": 1,
   "metadata": {},
   "outputs": [],
   "source": [
    "import random\n",
    "import logging\n",
    "import itertools\n",
    "from queue import PriorityQueue\n",
    "from gx_utils import *"
   ]
  },
  {
   "cell_type": "code",
   "execution_count": 22,
   "metadata": {},
   "outputs": [],
   "source": [
    "\n",
    "\n",
    "logging.basicConfig(format=\"%(message)s\", level=logging.INFO)\n",
    "def problem(N, seed=None):\n",
    "    random.seed(seed)\n",
    "    return [\n",
    "        list(set(random.randint(0, N - 1) for n in range(random.randint(N // 5, N // 2))))\n",
    "        for n in range(random.randint(N, N * 5))\n",
    "    ]\n",
    "\n",
    "def remove_duplicates(P):\n",
    "    set_list = []\n",
    "    for p in P:\n",
    "        if p not in set_list and len(p) != 0:\n",
    "            set_list.append(p)\n",
    "    return set_list\n",
    "\n",
    "\n",
    "def goal_test(state):\n",
    "    return set(itertools.chain(*state)) == set(range(0,N))\n",
    "\n",
    "def check_subset(a: set, b: set):\n",
    "    return  not set(a).issubset(b) and not b.issubset(set(a))\n",
    "    \n",
    "def possible_actions(state, P):\n",
    "    last = -1\n",
    "    state_set = set(itertools.chain(*state))\n",
    "    if len(state) != 0:\n",
    "        last_el = list(state[-1])\n",
    "        last = P.index(last_el)\n",
    "    return (tuple(p) for i,p in enumerate(P) if not state_set or (i > last and check_subset(state_set, set(p))))\n",
    "\n",
    "def path_cost(state):\n",
    "    return sum(len(p) for p in state)\n",
    "   \n",
    "def search(P : list, \n",
    "           goal_test,\n",
    "           path_cost,\n",
    "           priority_function ):\n",
    "    \n",
    "    frontier = PriorityQueue()\n",
    "    explored_nodes = 0\n",
    "    state = list()\n",
    "    cost = dict()\n",
    "    while state is not None and not goal_test(state): \n",
    "        explored_nodes+=1\n",
    "        \n",
    "        for action in possible_actions(state, P):\n",
    "            \n",
    "            new_state = tuple([*state, action])\n",
    "            \n",
    "            #logging.info(f\"found state: {new_state}:\")    \n",
    "            if new_state not in cost and new_state not in frontier:\n",
    "                #logging.info(f\"\\t\\t-- Added to the frontier\")\n",
    "                cost[new_state] = path_cost(new_state)     \n",
    "                #logging.info(f\"\\t\\t-- with cost: {cost[new_state]}\")\n",
    "                frontier.push(new_state, p=priority_function(new_state) )\n",
    "        if frontier:\n",
    "            state = frontier.pop()\n",
    "        else:\n",
    "            logging.info(\"Unsolvable\")\n",
    "            return\n",
    "    logging.info(f\"visited {explored_nodes} nodes.\")\n",
    "    return state, cost[state]\n"
   ]
  },
  {
   "cell_type": "markdown",
   "metadata": {},
   "source": [
    "# Solution 1: #\n",
    "\n",
    "Priority function = path cost <br>\n",
    "Already examineted nodes are not considered, using pruning into the possible action mothod <br>\n",
    "Find optimal solution <br>\n",
    "Computational limit N = 20 <br>"
   ]
  },
  {
   "cell_type": "code",
   "execution_count": null,
   "metadata": {},
   "outputs": [],
   "source": [
    "N = 20\n",
    "P = problem(N, seed=42)\n",
    "\n",
    "P = remove_duplicates(P)\n",
    "#logging.info(f\"P set: {P}.\")\n",
    "search(P, goal_test, path_cost, path_cost)"
   ]
  },
  {
   "cell_type": "markdown",
   "metadata": {},
   "source": [
    "# Solution 2: #\n",
    "\n",
    "A* search <br>\n",
    "Priority function = len of the state - density of the state <br>\n",
    "Shortest and most denes state preferred <br>\n",
    "Already examineted nodes are not considered, using pruning into the possible action mothod <br>\n",
    "Find optimal solution <br>\n",
    "Computational limit N = 20 <br>\n",
    "Faster then first solution, visited less nodes <br>"
   ]
  },
  {
   "cell_type": "code",
   "execution_count": null,
   "metadata": {},
   "outputs": [],
   "source": [
    "def priority_function(state): \n",
    "    state_len = sum(len(p) for p in state)\n",
    "    return state_len - len(set(itertools.chain(*state))) / state_len\n",
    "\n",
    "N = 20\n",
    "P = problem(N, seed=42)\n",
    "P = remove_duplicates(P)\n",
    "#logging.info(f\"P set: {P}.\")\n",
    "search(P, goal_test, path_cost, priority_function)"
   ]
  },
  {
   "cell_type": "markdown",
   "metadata": {},
   "source": [
    "# Solution 3: #\n",
    "\n",
    "Priority function = longest and most dense state first <br>\n",
    "Already examineted nodes are not considered, using pruning into the possible action mothod <br>\n",
    "Not optimal solution <br>\n",
    "Much faster than other solutions <br>"
   ]
  },
  {
   "cell_type": "code",
   "execution_count": null,
   "metadata": {},
   "outputs": [],
   "source": [
    "def priority_function(state):\n",
    "    state_len = sum(len(p) for p in state)\n",
    "    return  -(len(set(itertools.chain(*state))) / state_len + state_len/N)\n",
    "\n",
    "N =1000\n",
    "P = problem(N,seed=42)\n",
    "P=remove_duplicates(P)\n",
    "search(P,goal_test,path_cost,priority_function)"
   ]
  }
 ],
 "metadata": {
  "kernelspec": {
   "display_name": "Python 3.10.8 64-bit (microsoft store)",
   "language": "python",
   "name": "python3"
  },
  "language_info": {
   "codemirror_mode": {
    "name": "ipython",
    "version": 3
   },
   "file_extension": ".py",
   "mimetype": "text/x-python",
   "name": "python",
   "nbconvert_exporter": "python",
   "pygments_lexer": "ipython3",
   "version": "3.10.8"
  },
  "orig_nbformat": 4,
  "vscode": {
   "interpreter": {
    "hash": "5a6880a325705b3665dbce163bf5d53d724caa231254ade3e201df315622a4af"
   }
  }
 },
 "nbformat": 4,
 "nbformat_minor": 2
}
